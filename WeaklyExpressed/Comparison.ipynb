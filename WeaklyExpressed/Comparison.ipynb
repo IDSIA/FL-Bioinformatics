{
 "cells": [
  {
   "cell_type": "markdown",
   "id": "4fc80fe5-7084-417d-aca6-371c2881392a",
   "metadata": {},
   "source": [
    "# Comparison among the different analysis types"
   ]
  },
  {
   "cell_type": "code",
   "execution_count": null,
   "id": "82cfd245-7a8f-4720-9dd4-2ad309461cf1",
   "metadata": {},
   "outputs": [],
   "source": [
    "import toml\n",
    "import pandas as pd\n",
    "import matplotlib.pyplot as plt\n",
    "import seaborn as sns\n",
    "import numpy as np\n",
    "\n",
    "from app.task import load_data, compute_expression_percs, get_output_df, get_output_list\n",
    "\n",
    "# Loading parameters from TOML file\n",
    "toml_file = \"pyproject.toml\"\n",
    "config = toml.load(toml_file)\n",
    "params = config[\"tool\"][\"flwr\"][\"app\"][\"config\"]\n",
    "num_partitions = config[\"tool\"][\"flwr\"][\"federations\"][\"local-simulation\"][\"options\"][\"num-supernodes\"]\n"
   ]
  },
  {
   "cell_type": "markdown",
   "id": "30e1d227-fd93-4792-b2f4-ea48eb992994",
   "metadata": {},
   "source": [
    "## Federated analysis\n",
    "\n",
    "Here we read the results of the FL process and show the results."
   ]
  },
  {
   "cell_type": "code",
   "execution_count": null,
   "id": "adc9b968-f0e4-4371-97b5-ec2e7192379c",
   "metadata": {},
   "outputs": [],
   "source": [
    "# Read the output of the federated analysis\n",
    "ndarrays = np.load(\"output.npy\", allow_pickle=True)\n",
    "\n",
    "# Identify weakly expressed genes\n",
    "df_out = get_output_df(ndarrays)\n",
    "list_out = get_output_list(df_out, params[\"expr_perc\"])\n",
    "\n",
    "# Print results\n",
    "print(\"\\nPercentage of individuals where gene is expressed less than threshold:\\n\", df_out.to_string(index=False), \"\\n\")\n",
    "print(\"\\nWeakly expressed genes:\", list_out)\n"
   ]
  },
  {
   "cell_type": "markdown",
   "id": "71184090-f108-4852-9293-87c6cda5471e",
   "metadata": {},
   "source": [
    "## Centralized analysis\n",
    "\n",
    "Here, we aggregate the datasets from the different clients participating in the FL process and perform the analysis in a centralized manner. Note that the results are <b>identical</b> to those obtained through FL. However, it's important to note that this approach would not be feasible in a real-world scenario where only FL is authorized."
   ]
  },
  {
   "cell_type": "code",
   "execution_count": null,
   "id": "09def8af-36a7-48d6-84d5-14bba20b432d",
   "metadata": {},
   "outputs": [],
   "source": [
    "# Concatenate all partitions into a single dataset\n",
    "all_partitions = []\n",
    "for i in range(num_partitions):  \n",
    "    data = load_data(i, num_partitions, params[\"num_individuals\"], \n",
    "                     num_genes = params[\"num_genes\"], seed_value = params[\"seed_value\"])\n",
    "    data[\"Client\"] = i\n",
    "    all_partitions.append(data)\n",
    "merged_dataset = pd.concat(all_partitions)\n",
    "#print(merged_dataset.head())\n",
    "\n",
    "# Identify weakly expressed genes\n",
    "percs = compute_expression_percs(merged_dataset.iloc[:,:-1], params[\"expr_thr\"])\n",
    "df_out = get_output_df([percs])\n",
    "list_out = get_output_list(df_out, params[\"expr_perc\"])\n",
    "\n",
    "# Print results\n",
    "print(\"\\nPercentage of samples where gene is expressed less than threshold:\\n\", df_out.to_string(index=False), \"\\n\")\n",
    "print(\"\\nWeakly expressed genes:\", list_out)\n"
   ]
  },
  {
   "cell_type": "markdown",
   "id": "7c602129-3c63-42f8-84d9-22f5ed26f0ba",
   "metadata": {},
   "source": [
    "## Local analysis\n",
    "\n",
    "Here, we present the results each client would obtain by analyzing their dataset independently. Notably, using the default seed value from the configuration file, the set of weakly expressed genes identified by <b>Client 1</b> does not align with the overall set of weakly expressed genes across all clients."
   ]
  },
  {
   "cell_type": "code",
   "execution_count": null,
   "id": "b8303c2d-2172-47f3-b667-95bc1d39824e",
   "metadata": {},
   "outputs": [],
   "source": [
    "for i in range(num_partitions):\n",
    "    # Load a partition\n",
    "    data = load_data(i, num_partitions, params[\"num_individuals\"], \n",
    "                     num_genes = params[\"num_genes\"], seed_value = params[\"seed_value\"])\n",
    "\n",
    "    # Identify weakly expressed genes\n",
    "    percs = compute_expression_percs(data, params[\"expr_thr\"])\n",
    "    df_out = get_output_df([percs])\n",
    "    list_out = get_output_list(df_out, params[\"expr_perc\"])\n",
    "    \n",
    "    # Print results\n",
    "    print(\"--- Client\", i, \"---\")\n",
    "    print(\"\\nPercentage of samples where gene is expressed less than threshold:\\n\", df_out.to_string(index=False), \"\\n\")\n",
    "    print(\"\\nWeakly expressed genes:\", list_out, \"\\n\")"
   ]
  },
  {
   "cell_type": "markdown",
   "id": "a860da95-6e2a-4008-8f8e-0454b45001cd",
   "metadata": {},
   "source": [
    "## Visual comparison for local and centralized analyses"
   ]
  },
  {
   "cell_type": "markdown",
   "id": "f412da28-e91b-4c9e-a1da-cfdfb07f8132",
   "metadata": {},
   "source": [
    "The following two plots provide an overview of gene expression levels across the different local client datasets as well as the overall dataset. Notice again that, with the seed value used in the configuration file, Gene_6 would not be considered as weakly expressed by Client 1 in the local analysis but would be considered weakly expressed in the overall dataset."
   ]
  },
  {
   "cell_type": "code",
   "execution_count": null,
   "id": "e00f0225-d5d6-4041-bef2-596958dc42b4",
   "metadata": {},
   "outputs": [],
   "source": [
    "# Melt centralized dataset for plotting\n",
    "gene_data = merged_dataset.melt(id_vars=[\"Client\"], value_name=\"Expression\", var_name=\"Gene\")\n",
    "\n",
    "# Create boxplot\n",
    "plt.figure(figsize=(16, 8))\n",
    "sns.set(style=\"whitegrid\")\n",
    "sns.boxplot(x=\"Gene\", y=\"Expression\", hue=\"Client\", data=gene_data, palette=\"Set2\")\n",
    "\n",
    "# Add horizontal line at reference expression value\n",
    "plt.axhline(y=params[\"expr_thr\"], color='r', linestyle='--')\n",
    "\n",
    "# Customize plot\n",
    "plt.xlabel(\"Genes\", fontsize=14)\n",
    "plt.ylabel(\"Expression Levels\", fontsize=14)\n",
    "plt.title(\"Gene Expression Boxplot - Local\", fontsize=16)\n",
    "plt.xticks(rotation=45, ha=\"right\", fontsize=12)  \n",
    "plt.yticks(fontsize=12)  \n",
    "plt.legend(title=\"Client\", fontsize=12)\n",
    "plt.grid(True, axis='y', linestyle='--', alpha=0.7)\n",
    "\n",
    "# Show plot\n",
    "plt.tight_layout() \n",
    "plt.show()\n"
   ]
  },
  {
   "cell_type": "code",
   "execution_count": null,
   "id": "879efc25-6f28-4240-b3d7-e00ea4d386ef",
   "metadata": {},
   "outputs": [],
   "source": [
    "# Drop client column for plotting\n",
    "gene_data = merged_dataset.iloc[:, :-1]  \n",
    "\n",
    "# Create boxplot\n",
    "plt.figure(figsize=(16, 8))\n",
    "sns.set(style=\"whitegrid\")\n",
    "gene_data.boxplot(rot=45, patch_artist=True, medianprops=dict(color='black', linewidth=2))\n",
    "\n",
    "# Add horizontal line at reference expression value\n",
    "plt.axhline(y=params[\"expr_thr\"], color='r', linestyle='--')\n",
    "\n",
    "# Customize plot\n",
    "plt.xlabel(\"Genes\", fontsize=14)\n",
    "plt.ylabel(\"Expression Levels\", fontsize=14)\n",
    "plt.title(\"Gene Expression Boxplot - Centralized\", fontsize=16)\n",
    "plt.xticks(fontsize=12)\n",
    "plt.yticks(fontsize=12)\n",
    "plt.grid(True, axis='y', linestyle='--', alpha=0.7)\n",
    "\n",
    "# Show plot\n",
    "plt.tight_layout()\n",
    "plt.show()\n"
   ]
  }
 ],
 "metadata": {
  "kernelspec": {
   "display_name": "Python 3 (ipykernel)",
   "language": "python",
   "name": "python3"
  },
  "language_info": {
   "codemirror_mode": {
    "name": "ipython",
    "version": 3
   },
   "file_extension": ".py",
   "mimetype": "text/x-python",
   "name": "python",
   "nbconvert_exporter": "python",
   "pygments_lexer": "ipython3",
   "version": "3.11.6"
  }
 },
 "nbformat": 4,
 "nbformat_minor": 5
}
