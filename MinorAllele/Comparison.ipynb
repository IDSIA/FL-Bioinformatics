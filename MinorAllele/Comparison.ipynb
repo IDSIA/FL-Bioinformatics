{
 "cells": [
  {
   "cell_type": "markdown",
   "id": "4fc80fe5-7084-417d-aca6-371c2881392a",
   "metadata": {},
   "source": [
    "# Comparison between local analysis and global analysis"
   ]
  },
  {
   "cell_type": "code",
   "execution_count": 1,
   "id": "82cfd245-7a8f-4720-9dd4-2ad309461cf1",
   "metadata": {},
   "outputs": [],
   "source": [
    "import toml\n",
    "import pandas as pd\n",
    "import matplotlib.pyplot as plt\n",
    "import seaborn as sns\n",
    "import numpy as np\n",
    "\n",
    "from app.task import load_data, generate_gwas_dataset, compute_allele_frequencies_np, count_alleles, compute_maf  \n",
    "\n",
    "# Loading parameters from TOML file\n",
    "toml_file = \"pyproject.toml\"\n",
    "config = toml.load(toml_file)\n",
    "params = config[\"tool\"][\"flwr\"][\"app\"][\"config\"]\n",
    "\n",
    "num_partitions = 5"
   ]
  },
  {
   "cell_type": "markdown",
   "id": "c4c4cbd8-37d5-4f8b-8311-0d6e299638ac",
   "metadata": {},
   "source": [
    "## Local analysis"
   ]
  },
  {
   "cell_type": "code",
   "execution_count": 10,
   "id": "6c59887c-dfe5-4e71-80ac-345cfe9f0dd1",
   "metadata": {},
   "outputs": [
    {
     "name": "stdout",
     "output_type": "stream",
     "text": [
      "Example of local dataset (head):\n",
      "  SNP_1 SNP_2 SNP_3 SNP_4 SNP_5 __index_level_0__\n",
      "0    TT    CT    GG    AA    AA             Ind_1\n",
      "1    CT    AT    AC    AG    CT             Ind_2\n",
      "2    TT    GT    AA    GG    GT             Ind_3\n",
      "3    GG    GG    CC    CT    TT             Ind_4\n",
      "4    GC    GT    GC    AC    GT             Ind_5\n",
      "\n",
      "Partition 0:\n",
      "\n",
      "       A_count  C_count  G_count  T_count  Total_Alleles\n",
      "SNP_1        8        9        9       14             40\n",
      "SNP_2       18        5        8        9             40\n",
      "SNP_3       16       11        5        8             40\n",
      "SNP_4       13        8       15        4             40\n",
      "SNP_5        9        8       10       13             40\n",
      "Partition 1:\n",
      "\n",
      "       A_count  C_count  G_count  T_count  Total_Alleles\n",
      "SNP_1       10        8       13        9             40\n",
      "SNP_2       13        9        9        9             40\n",
      "SNP_3        7       13       10       10             40\n",
      "SNP_4       14        7       10        9             40\n",
      "SNP_5       12       10        7       11             40\n",
      "Partition 2:\n",
      "\n",
      "       A_count  C_count  G_count  T_count  Total_Alleles\n",
      "SNP_1        8       10       12       10             40\n",
      "SNP_2        9       10       12        9             40\n",
      "SNP_3        8       16        4       12             40\n",
      "SNP_4        7       10        8       15             40\n",
      "SNP_5       12        7       14        7             40\n",
      "Partition 3:\n",
      "\n",
      "       A_count  C_count  G_count  T_count  Total_Alleles\n",
      "SNP_1       13        8        9       10             40\n",
      "SNP_2       11       11       11        7             40\n",
      "SNP_3       10        9        8       13             40\n",
      "SNP_4        8       17        7        8             40\n",
      "SNP_5        7        7       10       16             40\n",
      "Partition 4:\n",
      "\n",
      "       A_count  C_count  G_count  T_count  Total_Alleles\n",
      "SNP_1        5       14        8       13             40\n",
      "SNP_2       13        6       13        8             40\n",
      "SNP_3        6       11        6       17             40\n",
      "SNP_4        4       10       14       12             40\n",
      "SNP_5       11        3       12       14             40\n"
     ]
    }
   ],
   "source": [
    "# Concatenate all partitions into a single dataset\n",
    "all_partitions = []\n",
    "for i in range(num_partitions):  \n",
    "    data = load_data(i, num_partitions, params[\"num_individuals\"], \n",
    "                     num_snps = params[\"num_snps\"], seed_value = params[\"seed_value\"])\n",
    "\n",
    "    if i==0 :\n",
    "        print(\"Example of local dataset (head):\")\n",
    "        print(f\"{data.head()}\\n\")\n",
    "\n",
    "    df_counts = count_alleles(data)\n",
    "    print(f\"Partition {i}:\\n\")\n",
    "    print(df_counts.head())\n"
   ]
  },
  {
   "cell_type": "markdown",
   "id": "e11119de-3b70-408d-8bbe-700a7eeabd3a",
   "metadata": {},
   "source": [
    "## Global analysis"
   ]
  },
  {
   "cell_type": "code",
   "execution_count": 3,
   "id": "698e342e-9e68-40f7-b01b-12aeeb63282d",
   "metadata": {},
   "outputs": [
    {
     "data": {
      "text/html": [
       "<div>\n",
       "<style scoped>\n",
       "    .dataframe tbody tr th:only-of-type {\n",
       "        vertical-align: middle;\n",
       "    }\n",
       "\n",
       "    .dataframe tbody tr th {\n",
       "        vertical-align: top;\n",
       "    }\n",
       "\n",
       "    .dataframe thead th {\n",
       "        text-align: right;\n",
       "    }\n",
       "</style>\n",
       "<table border=\"1\" class=\"dataframe\">\n",
       "  <thead>\n",
       "    <tr style=\"text-align: right;\">\n",
       "      <th></th>\n",
       "      <th>A_count</th>\n",
       "      <th>C_count</th>\n",
       "      <th>G_count</th>\n",
       "      <th>T_count</th>\n",
       "      <th>Total_Alleles</th>\n",
       "    </tr>\n",
       "  </thead>\n",
       "  <tbody>\n",
       "    <tr>\n",
       "      <th>SNP_1</th>\n",
       "      <td>44</td>\n",
       "      <td>49</td>\n",
       "      <td>51</td>\n",
       "      <td>56</td>\n",
       "      <td>200</td>\n",
       "    </tr>\n",
       "    <tr>\n",
       "      <th>SNP_2</th>\n",
       "      <td>64</td>\n",
       "      <td>41</td>\n",
       "      <td>53</td>\n",
       "      <td>42</td>\n",
       "      <td>200</td>\n",
       "    </tr>\n",
       "    <tr>\n",
       "      <th>SNP_3</th>\n",
       "      <td>47</td>\n",
       "      <td>60</td>\n",
       "      <td>33</td>\n",
       "      <td>60</td>\n",
       "      <td>200</td>\n",
       "    </tr>\n",
       "    <tr>\n",
       "      <th>SNP_4</th>\n",
       "      <td>46</td>\n",
       "      <td>52</td>\n",
       "      <td>54</td>\n",
       "      <td>48</td>\n",
       "      <td>200</td>\n",
       "    </tr>\n",
       "    <tr>\n",
       "      <th>SNP_5</th>\n",
       "      <td>51</td>\n",
       "      <td>35</td>\n",
       "      <td>53</td>\n",
       "      <td>61</td>\n",
       "      <td>200</td>\n",
       "    </tr>\n",
       "  </tbody>\n",
       "</table>\n",
       "</div>"
      ],
      "text/plain": [
       "       A_count  C_count  G_count  T_count  Total_Alleles\n",
       "SNP_1       44       49       51       56            200\n",
       "SNP_2       64       41       53       42            200\n",
       "SNP_3       47       60       33       60            200\n",
       "SNP_4       46       52       54       48            200\n",
       "SNP_5       51       35       53       61            200"
      ]
     },
     "execution_count": 3,
     "metadata": {},
     "output_type": "execute_result"
    }
   ],
   "source": [
    "# Concatenate all partitions into a single dataset\n",
    "all_partitions = []\n",
    "for i in range(num_partitions):  \n",
    "    data = load_data(i, num_partitions, params[\"num_individuals\"], \n",
    "                     num_snps = params[\"num_snps\"], seed_value = params[\"seed_value\"])\n",
    "    #data[\"Partition\"] = i\n",
    "    all_partitions.append(data)  # Append DataFrame to list\n",
    "merged_dataset = pd.concat(all_partitions)\n",
    "df_counts = count_alleles(merged_dataset)\n",
    "\n",
    "df_counts.head()"
   ]
  },
  {
   "cell_type": "code",
   "execution_count": 4,
   "id": "b961a756-fa9a-474d-a251-37c10c88a212",
   "metadata": {},
   "outputs": [
    {
     "name": "stdout",
     "output_type": "stream",
     "text": [
      "GWAS Dataset:\n",
      "         SNP_1 SNP_2 SNP_3 SNP_4 SNP_5\n",
      "Ind_1      TT    CT    GG    AA    AA\n",
      "Ind_2      CT    AT    AC    AG    CT\n",
      "Ind_3      TT    GT    AA    GG    GT\n",
      "Ind_4      GG    GG    CC    CT    TT\n",
      "Ind_5      GC    GT    GC    AC    GT\n",
      "...       ...   ...   ...   ...   ...\n",
      "Ind_96     GC    AT    GT    TT    AA\n",
      "Ind_97     TT    AG    TT    GT    AT\n",
      "Ind_98     TT    AG    TT    GG    AG\n",
      "Ind_99     TT    CT    CC    GT    AA\n",
      "Ind_100    AC    AA    TT    GT    AC\n",
      "\n",
      "[100 rows x 5 columns] \n",
      "\n",
      "Allele Counts:\n",
      "        A_count  C_count  G_count  T_count  Total_Alleles\n",
      "SNP_1       44       49       51       56            200\n",
      "SNP_2       64       41       53       42            200\n",
      "SNP_3       47       60       33       60            200\n",
      "SNP_4       46       52       54       48            200\n",
      "SNP_5       51       35       53       61            200\n"
     ]
    }
   ],
   "source": [
    "# Example Usage\n",
    "gwas_df = generate_gwas_dataset(num_individuals=params[\"num_individuals\"], num_snps=params[\"num_snps\"], seed_value=params[\"seed_value\"])\n",
    "print(\"GWAS Dataset:\\n\", gwas_df, \"\\n\")\n",
    "\n",
    "allele_counts_df = count_alleles(gwas_df)\n",
    "print(\"Allele Counts:\\n\", allele_counts_df)\n"
   ]
  },
  {
   "cell_type": "code",
   "execution_count": 5,
   "id": "24b8e8a0-3d7e-4fc2-a5a1-501ab4cc7e13",
   "metadata": {},
   "outputs": [
    {
     "name": "stdout",
     "output_type": "stream",
     "text": [
      "Allele Frequencies (NumPy Array):\n",
      " [[0.22  0.245 0.255 0.28 ]\n",
      " [0.32  0.205 0.265 0.21 ]\n",
      " [0.235 0.3   0.165 0.3  ]\n",
      " [0.23  0.26  0.27  0.24 ]\n",
      " [0.255 0.175 0.265 0.305]]\n"
     ]
    }
   ],
   "source": [
    "# Example Usage\n",
    "allele_frequencies_np = compute_allele_frequencies_np(allele_counts_df)\n",
    "print(\"Allele Frequencies (NumPy Array):\\n\", allele_frequencies_np)\n"
   ]
  },
  {
   "cell_type": "code",
   "execution_count": 6,
   "id": "0aecc2ab-bd8c-41fc-9e12-c58af27ad223",
   "metadata": {},
   "outputs": [
    {
     "name": "stdout",
     "output_type": "stream",
     "text": [
      "Minor Allele Frequencies (NumPy Array):\n",
      " [0.22  0.205 0.165 0.23  0.175]\n"
     ]
    }
   ],
   "source": [
    "# Example Usage\n",
    "maf_values = compute_maf(allele_frequencies_np)\n",
    "print(\"Minor Allele Frequencies (NumPy Array):\\n\", maf_values)\n"
   ]
  },
  {
   "cell_type": "markdown",
   "id": "8aa12051-7833-44d6-8255-c20c2a55e992",
   "metadata": {},
   "source": [
    "## Plots"
   ]
  },
  {
   "cell_type": "code",
   "execution_count": 7,
   "id": "1e17a1c4-b725-4e0d-8ecc-1a4e4abdd01b",
   "metadata": {},
   "outputs": [
    {
     "data": {
      "image/png": "[encoded data removed]",
      "text/plain": [
       "<Figure size 1200x600 with 1 Axes>"
      ]
     },
     "metadata": {},
     "output_type": "display_data"
    }
   ],
   "source": [
    "# Convert to long format for Seaborn\n",
    "#df = pd.DataFrame(allele_counts_df)\n",
    "df= df_counts\n",
    "df['SNP'] = df.index\n",
    "allele_data = df.melt(id_vars=[\"SNP\"], value_vars=[\"A_count\", \"C_count\", \"G_count\", \"T_count\"],\n",
    "                      var_name=\"Allele\", value_name=\"Count\")\n",
    "\n",
    "# Clean up allele names (remove \"_count\" from column names)\n",
    "allele_data[\"Allele\"] = allele_data[\"Allele\"].str.replace(\"_count\", \"\")\n",
    "\n",
    "# Set Seaborn style\n",
    "sns.set(style=\"whitegrid\")\n",
    "\n",
    "# Create the bar plot\n",
    "plt.figure(figsize=(12, 6))  # Set figure size\n",
    "ax = sns.barplot(x=\"SNP\", y=\"Count\", hue=\"Allele\", data=allele_data, palette=\"Set2\")\n",
    "\n",
    "# Customize plot\n",
    "plt.xlabel(\"SNPs\", fontsize=14)\n",
    "plt.ylabel(\"Allele Count\", fontsize=14)\n",
    "plt.title(\"Allele Frequency Distribution Across SNPs - Global\", fontsize=16)\n",
    "plt.xticks(rotation=0, fontsize=12)  # Keep SNP labels readable\n",
    "plt.yticks(fontsize=12)\n",
    "plt.legend(title=\"Allele\", fontsize=12)\n",
    "plt.grid(True, axis='y', linestyle='--', alpha=0.7)\n",
    "\n",
    "# Show plot\n",
    "plt.tight_layout()\n",
    "plt.show()"
   ]
  },
  {
   "cell_type": "code",
   "execution_count": 8,
   "id": "d65239e7-98ba-4365-8b10-73c3f39be81e",
   "metadata": {},
   "outputs": [
    {
     "ename": "IndexError",
     "evalue": "single positional indexer is out-of-bounds",
     "output_type": "error",
     "traceback": [
      "\u001b[0;31m---------------------------------------------------------------------------\u001b[0m",
      "\u001b[0;31mIndexError\u001b[0m                                Traceback (most recent call last)",
      "Cell \u001b[0;32mIn[8], line 37\u001b[0m\n\u001b[1;32m     35\u001b[0m \u001b[38;5;28;01mfor\u001b[39;00m i, bar \u001b[38;5;129;01min\u001b[39;00m \u001b[38;5;28menumerate\u001b[39m(ax\u001b[38;5;241m.\u001b[39mpatches):\n\u001b[1;32m     36\u001b[0m     snp_index \u001b[38;5;241m=\u001b[39m i \u001b[38;5;241m/\u001b[39m\u001b[38;5;241m/\u001b[39m \u001b[38;5;241m4\u001b[39m  \u001b[38;5;66;03m# Each SNP has 4 bars (A, C, G, T)\u001b[39;00m\n\u001b[0;32m---> 37\u001b[0m     allele \u001b[38;5;241m=\u001b[39m \u001b[43mallele_data\u001b[49m\u001b[38;5;241;43m.\u001b[39;49m\u001b[43miloc\u001b[49m\u001b[43m[\u001b[49m\u001b[43mi\u001b[49m\u001b[43m]\u001b[49m[\u001b[38;5;124m\"\u001b[39m\u001b[38;5;124mAllele\u001b[39m\u001b[38;5;124m\"\u001b[39m]\n\u001b[1;32m     39\u001b[0m     \u001b[38;5;66;03m# Check if this is the minor allele\u001b[39;00m\n\u001b[1;32m     40\u001b[0m     \u001b[38;5;28;01mif\u001b[39;00m allele \u001b[38;5;241m==\u001b[39m df_counts\u001b[38;5;241m.\u001b[39miloc[snp_index][\u001b[38;5;124m\"\u001b[39m\u001b[38;5;124mMinor_Allele\u001b[39m\u001b[38;5;124m\"\u001b[39m]\u001b[38;5;241m.\u001b[39mreplace(\u001b[38;5;124m\"\u001b[39m\u001b[38;5;124m_count\u001b[39m\u001b[38;5;124m\"\u001b[39m, \u001b[38;5;124m\"\u001b[39m\u001b[38;5;124m\"\u001b[39m):\n",
      "File \u001b[0;32m/opt/conda/lib/python3.11/site-packages/pandas/core/indexing.py:1153\u001b[0m, in \u001b[0;36m_LocationIndexer.__getitem__\u001b[0;34m(self, key)\u001b[0m\n\u001b[1;32m   1150\u001b[0m axis \u001b[38;5;241m=\u001b[39m \u001b[38;5;28mself\u001b[39m\u001b[38;5;241m.\u001b[39maxis \u001b[38;5;129;01mor\u001b[39;00m \u001b[38;5;241m0\u001b[39m\n\u001b[1;32m   1152\u001b[0m maybe_callable \u001b[38;5;241m=\u001b[39m com\u001b[38;5;241m.\u001b[39mapply_if_callable(key, \u001b[38;5;28mself\u001b[39m\u001b[38;5;241m.\u001b[39mobj)\n\u001b[0;32m-> 1153\u001b[0m \u001b[38;5;28;01mreturn\u001b[39;00m \u001b[38;5;28;43mself\u001b[39;49m\u001b[38;5;241;43m.\u001b[39;49m\u001b[43m_getitem_axis\u001b[49m\u001b[43m(\u001b[49m\u001b[43mmaybe_callable\u001b[49m\u001b[43m,\u001b[49m\u001b[43m \u001b[49m\u001b[43maxis\u001b[49m\u001b[38;5;241;43m=\u001b[39;49m\u001b[43maxis\u001b[49m\u001b[43m)\u001b[49m\n",
      "File \u001b[0;32m/opt/conda/lib/python3.11/site-packages/pandas/core/indexing.py:1714\u001b[0m, in \u001b[0;36m_iLocIndexer._getitem_axis\u001b[0;34m(self, key, axis)\u001b[0m\n\u001b[1;32m   1711\u001b[0m     \u001b[38;5;28;01mraise\u001b[39;00m \u001b[38;5;167;01mTypeError\u001b[39;00m(\u001b[38;5;124m\"\u001b[39m\u001b[38;5;124mCannot index by location index with a non-integer key\u001b[39m\u001b[38;5;124m\"\u001b[39m)\n\u001b[1;32m   1713\u001b[0m \u001b[38;5;66;03m# validate the location\u001b[39;00m\n\u001b[0;32m-> 1714\u001b[0m \u001b[38;5;28;43mself\u001b[39;49m\u001b[38;5;241;43m.\u001b[39;49m\u001b[43m_validate_integer\u001b[49m\u001b[43m(\u001b[49m\u001b[43mkey\u001b[49m\u001b[43m,\u001b[49m\u001b[43m \u001b[49m\u001b[43maxis\u001b[49m\u001b[43m)\u001b[49m\n\u001b[1;32m   1716\u001b[0m \u001b[38;5;28;01mreturn\u001b[39;00m \u001b[38;5;28mself\u001b[39m\u001b[38;5;241m.\u001b[39mobj\u001b[38;5;241m.\u001b[39m_ixs(key, axis\u001b[38;5;241m=\u001b[39maxis)\n",
      "File \u001b[0;32m/opt/conda/lib/python3.11/site-packages/pandas/core/indexing.py:1647\u001b[0m, in \u001b[0;36m_iLocIndexer._validate_integer\u001b[0;34m(self, key, axis)\u001b[0m\n\u001b[1;32m   1645\u001b[0m len_axis \u001b[38;5;241m=\u001b[39m \u001b[38;5;28mlen\u001b[39m(\u001b[38;5;28mself\u001b[39m\u001b[38;5;241m.\u001b[39mobj\u001b[38;5;241m.\u001b[39m_get_axis(axis))\n\u001b[1;32m   1646\u001b[0m \u001b[38;5;28;01mif\u001b[39;00m key \u001b[38;5;241m>\u001b[39m\u001b[38;5;241m=\u001b[39m len_axis \u001b[38;5;129;01mor\u001b[39;00m key \u001b[38;5;241m<\u001b[39m \u001b[38;5;241m-\u001b[39mlen_axis:\n\u001b[0;32m-> 1647\u001b[0m     \u001b[38;5;28;01mraise\u001b[39;00m \u001b[38;5;167;01mIndexError\u001b[39;00m(\u001b[38;5;124m\"\u001b[39m\u001b[38;5;124msingle positional indexer is out-of-bounds\u001b[39m\u001b[38;5;124m\"\u001b[39m)\n",
      "\u001b[0;31mIndexError\u001b[0m: single positional indexer is out-of-bounds"
     ]
    },
    {
     "data": {
      "image/png": "[encoded data removed]",
      "text/plain": [
       "<Figure size 1200x600 with 1 Axes>"
      ]
     },
     "metadata": {},
     "output_type": "display_data"
    }
   ],
   "source": [
    "import numpy as np\n",
    "import pandas as pd\n",
    "import matplotlib.pyplot as plt\n",
    "import seaborn as sns\n",
    "\n",
    "# Sample dataset\n",
    "df_counts = pd.DataFrame({\n",
    "    \"SNP\": [\"SNP_1\", \"SNP_2\", \"SNP_3\", \"SNP_4\"],\n",
    "    \"A_count\": [2, 7, 9, 8],\n",
    "    \"C_count\": [4, 2, 6, 3],\n",
    "    \"G_count\": [5, 5, 3, 7],\n",
    "    \"T_count\": [9, 6, 2, 2]\n",
    "}).set_index(\"SNP\")\n",
    "\n",
    "# Identify the minor allele for each SNP\n",
    "df_counts[\"Minor_Allele\"] = df_counts.idxmin(axis=1)  # Column name of the allele with the lowest count\n",
    "\n",
    "# Convert to long format for Seaborn\n",
    "df = df_counts.copy()\n",
    "df[\"SNP\"] = df.index  # Add SNP column for melting\n",
    "allele_data = df.melt(id_vars=[\"SNP\"], value_vars=[\"A_count\", \"C_count\", \"G_count\", \"T_count\"],\n",
    "                      var_name=\"Allele\", value_name=\"Count\")\n",
    "\n",
    "# Clean up allele names (remove \"_count\" from column names)\n",
    "allele_data[\"Allele\"] = allele_data[\"Allele\"].str.replace(\"_count\", \"\")\n",
    "\n",
    "# Set Seaborn style\n",
    "sns.set(style=\"whitegrid\")\n",
    "\n",
    "# Create the bar plot\n",
    "plt.figure(figsize=(12, 6))\n",
    "ax = sns.barplot(x=\"SNP\", y=\"Count\", hue=\"Allele\", data=allele_data, palette=\"Set2\")\n",
    "\n",
    "# Add a star (*) above the minor allele bar\n",
    "for i, bar in enumerate(ax.patches):\n",
    "    snp_index = i // 4  # Each SNP has 4 bars (A, C, G, T)\n",
    "    allele = allele_data.iloc[i][\"Allele\"]\n",
    "    \n",
    "    # Check if this is the minor allele\n",
    "    if allele == df_counts.iloc[snp_index][\"Minor_Allele\"].replace(\"_count\", \"\"):\n",
    "        bar_x = bar.get_x() + bar.get_width() / 2  # Get center of the bar\n",
    "        bar_y = bar.get_height()  # Get bar height\n",
    "        ax.text(bar_x, bar_y + 0.5, \"★\", ha=\"center\", va=\"bottom\", fontsize=14, color=\"red\", fontweight=\"bold\")\n",
    "\n",
    "# Customize plot\n",
    "plt.xlabel(\"SNPs\", fontsize=14)\n",
    "plt.ylabel(\"Allele Count\", fontsize=14)\n",
    "plt.title(\"Allele Frequency Distribution Across SNPs (Minor Allele Highlighted)\", fontsize=16)\n",
    "plt.xticks(rotation=0, fontsize=12)\n",
    "plt.yticks(fontsize=12)\n",
    "plt.legend(title=\"Allele\", fontsize=12)\n",
    "plt.grid(True, axis='y', linestyle='--', alpha=0.7)\n",
    "\n",
    "# Show plot\n",
    "plt.tight_layout()\n",
    "plt.show()\n"
   ]
  }
 ],
 "metadata": {
  "kernelspec": {
   "display_name": "Python 3 (ipykernel)",
   "language": "python",
   "name": "python3"
  },
  "language_info": {
   "codemirror_mode": {
    "name": "ipython",
    "version": 3
   },
   "file_extension": ".py",
   "mimetype": "text/x-python",
   "name": "python",
   "nbconvert_exporter": "python",
   "pygments_lexer": "ipython3",
   "version": "3.11.6"
  }
 },
 "nbformat": 4,
 "nbformat_minor": 5
}
