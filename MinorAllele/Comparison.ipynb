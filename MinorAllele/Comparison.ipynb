{
 "cells": [
  {
   "cell_type": "markdown",
   "id": "4fc80fe5-7084-417d-aca6-371c2881392a",
   "metadata": {},
   "source": [
    "# Comparison between local analysis and global analysis"
   ]
  },
  {
   "cell_type": "code",
   "execution_count": 32,
   "id": "82cfd245-7a8f-4720-9dd4-2ad309461cf1",
   "metadata": {},
   "outputs": [],
   "source": [
    "import toml\n",
    "import pandas as pd\n",
    "import matplotlib.pyplot as plt\n",
    "import seaborn as sns\n",
    "import numpy as np\n",
    "from itertools import combinations_with_replacement\n",
    "\n",
    "from app.task import load_data, generate_gwas_dataset, compute_allele_frequencies_np, count_alleles, compute_maf  \n",
    "\n",
    "# Loading parameters from TOML file\n",
    "toml_file = \"pyproject.toml\"\n",
    "config = toml.load(toml_file)\n",
    "params = config[\"tool\"][\"flwr\"][\"app\"][\"config\"]\n",
    "\n",
    "num_partitions = 5"
   ]
  },
  {
   "cell_type": "markdown",
   "id": "2a874471",
   "metadata": {},
   "source": [
    "# MAybe we could force a allele frequency to be < 0.05 so that it would be excluded in a clinet while in the global analysis it wouldnt "
   ]
  },
  {
   "cell_type": "markdown",
   "id": "709a6707",
   "metadata": {},
   "source": [
    "## Federated analysis\n",
    "\n",
    "Here we read the results of the FL process and show the results."
   ]
  },
  {
   "cell_type": "code",
   "execution_count": 33,
   "id": "679ced64",
   "metadata": {},
   "outputs": [
    {
     "data": {
      "text/html": [
       "<div>\n",
       "<style scoped>\n",
       "    .dataframe tbody tr th:only-of-type {\n",
       "        vertical-align: middle;\n",
       "    }\n",
       "\n",
       "    .dataframe tbody tr th {\n",
       "        vertical-align: top;\n",
       "    }\n",
       "\n",
       "    .dataframe thead th {\n",
       "        text-align: right;\n",
       "    }\n",
       "</style>\n",
       "<table border=\"1\" class=\"dataframe\">\n",
       "  <thead>\n",
       "    <tr style=\"text-align: right;\">\n",
       "      <th></th>\n",
       "      <th>MAF</th>\n",
       "    </tr>\n",
       "  </thead>\n",
       "  <tbody>\n",
       "    <tr>\n",
       "      <th>SNP_1</th>\n",
       "      <td>0.119996</td>\n",
       "    </tr>\n",
       "    <tr>\n",
       "      <th>SNP_2</th>\n",
       "      <td>0.054998</td>\n",
       "    </tr>\n",
       "    <tr>\n",
       "      <th>SNP_3</th>\n",
       "      <td>0.069990</td>\n",
       "    </tr>\n",
       "    <tr>\n",
       "      <th>SNP_4</th>\n",
       "      <td>0.064988</td>\n",
       "    </tr>\n",
       "    <tr>\n",
       "      <th>SNP_5</th>\n",
       "      <td>0.110002</td>\n",
       "    </tr>\n",
       "  </tbody>\n",
       "</table>\n",
       "</div>"
      ],
      "text/plain": [
       "            MAF\n",
       "SNP_1  0.119996\n",
       "SNP_2  0.054998\n",
       "SNP_3  0.069990\n",
       "SNP_4  0.064988\n",
       "SNP_5  0.110002"
      ]
     },
     "execution_count": 33,
     "metadata": {},
     "output_type": "execute_result"
    }
   ],
   "source": [
    "federated_maf = pd.read_csv('./maf_out.csv',index_col=0)\n",
    "federated_maf"
   ]
  },
  {
   "cell_type": "markdown",
   "id": "2120c096",
   "metadata": {},
   "source": [
    "## Centralized analysis\n",
    "\n",
    "Here, we aggregate the datasets from the different clients participating in the FL process and perform the analysis in a centralized manner. Note that the results are <b>identical</b> to those obtained through FL. However, it's important to note that this approach would not be feasible in a real-world scenario where only FL is authorized."
   ]
  },
  {
   "cell_type": "code",
   "execution_count": 34,
   "id": "6c59887c-dfe5-4e71-80ac-345cfe9f0dd1",
   "metadata": {},
   "outputs": [
    {
     "name": "stdout",
     "output_type": "stream",
     "text": [
      "Example of local dataset:\n"
     ]
    },
    {
     "data": {
      "text/html": [
       "<div>\n",
       "<style scoped>\n",
       "    .dataframe tbody tr th:only-of-type {\n",
       "        vertical-align: middle;\n",
       "    }\n",
       "\n",
       "    .dataframe tbody tr th {\n",
       "        vertical-align: top;\n",
       "    }\n",
       "\n",
       "    .dataframe thead th {\n",
       "        text-align: right;\n",
       "    }\n",
       "</style>\n",
       "<table border=\"1\" class=\"dataframe\">\n",
       "  <thead>\n",
       "    <tr style=\"text-align: right;\">\n",
       "      <th></th>\n",
       "      <th>SNP_1</th>\n",
       "      <th>SNP_2</th>\n",
       "      <th>SNP_3</th>\n",
       "      <th>SNP_4</th>\n",
       "      <th>SNP_5</th>\n",
       "    </tr>\n",
       "  </thead>\n",
       "  <tbody>\n",
       "    <tr>\n",
       "      <th>0</th>\n",
       "      <td>GG</td>\n",
       "      <td>AC</td>\n",
       "      <td>CC</td>\n",
       "      <td>GG</td>\n",
       "      <td>GT</td>\n",
       "    </tr>\n",
       "    <tr>\n",
       "      <th>1</th>\n",
       "      <td>GT</td>\n",
       "      <td>GG</td>\n",
       "      <td>GT</td>\n",
       "      <td>CG</td>\n",
       "      <td>TT</td>\n",
       "    </tr>\n",
       "    <tr>\n",
       "      <th>2</th>\n",
       "      <td>AA</td>\n",
       "      <td>CC</td>\n",
       "      <td>GG</td>\n",
       "      <td>AA</td>\n",
       "      <td>CT</td>\n",
       "    </tr>\n",
       "    <tr>\n",
       "      <th>3</th>\n",
       "      <td>AG</td>\n",
       "      <td>AC</td>\n",
       "      <td>GT</td>\n",
       "      <td>CG</td>\n",
       "      <td>AG</td>\n",
       "    </tr>\n",
       "    <tr>\n",
       "      <th>4</th>\n",
       "      <td>AG</td>\n",
       "      <td>AT</td>\n",
       "      <td>GT</td>\n",
       "      <td>AC</td>\n",
       "      <td>AG</td>\n",
       "    </tr>\n",
       "    <tr>\n",
       "      <th>...</th>\n",
       "      <td>...</td>\n",
       "      <td>...</td>\n",
       "      <td>...</td>\n",
       "      <td>...</td>\n",
       "      <td>...</td>\n",
       "    </tr>\n",
       "    <tr>\n",
       "      <th>195</th>\n",
       "      <td>AT</td>\n",
       "      <td>CC</td>\n",
       "      <td>GT</td>\n",
       "      <td>AC</td>\n",
       "      <td>GG</td>\n",
       "    </tr>\n",
       "    <tr>\n",
       "      <th>196</th>\n",
       "      <td>AA</td>\n",
       "      <td>AG</td>\n",
       "      <td>AA</td>\n",
       "      <td>CC</td>\n",
       "      <td>CG</td>\n",
       "    </tr>\n",
       "    <tr>\n",
       "      <th>197</th>\n",
       "      <td>AC</td>\n",
       "      <td>AC</td>\n",
       "      <td>TT</td>\n",
       "      <td>TT</td>\n",
       "      <td>AG</td>\n",
       "    </tr>\n",
       "    <tr>\n",
       "      <th>198</th>\n",
       "      <td>AC</td>\n",
       "      <td>AT</td>\n",
       "      <td>GT</td>\n",
       "      <td>GT</td>\n",
       "      <td>CG</td>\n",
       "    </tr>\n",
       "    <tr>\n",
       "      <th>199</th>\n",
       "      <td>GT</td>\n",
       "      <td>AT</td>\n",
       "      <td>AA</td>\n",
       "      <td>CG</td>\n",
       "      <td>AA</td>\n",
       "    </tr>\n",
       "  </tbody>\n",
       "</table>\n",
       "<p>200 rows × 5 columns</p>\n",
       "</div>"
      ],
      "text/plain": [
       "    SNP_1 SNP_2 SNP_3 SNP_4 SNP_5\n",
       "0      GG    AC    CC    GG    GT\n",
       "1      GT    GG    GT    CG    TT\n",
       "2      AA    CC    GG    AA    CT\n",
       "3      AG    AC    GT    CG    AG\n",
       "4      AG    AT    GT    AC    AG\n",
       "..    ...   ...   ...   ...   ...\n",
       "195    AT    CC    GT    AC    GG\n",
       "196    AA    AG    AA    CC    CG\n",
       "197    AC    AC    TT    TT    AG\n",
       "198    AC    AT    GT    GT    CG\n",
       "199    GT    AT    AA    CG    AA\n",
       "\n",
       "[200 rows x 5 columns]"
      ]
     },
     "metadata": {},
     "output_type": "display_data"
    }
   ],
   "source": [
    "# Concatenate all partitions into a single dataset\n",
    "all_partitions = []\n",
    "for i in range(num_partitions):  \n",
    "    data = load_data(i, num_partitions, params[\"num_individuals\"], \n",
    "                     num_snps = params[\"num_snps\"], seed_value =\n",
    "                     params[\"seed_value\"]\n",
    "                    )\n",
    "\n",
    "    if i==0 :\n",
    "        print(\"Example of local dataset:\")\n",
    "        display(data)\n",
    "    all_partitions.append(data)\n",
    "centralized_df = pd.concat(all_partitions)\n"
   ]
  },
  {
   "cell_type": "code",
   "execution_count": 35,
   "id": "2c66742a",
   "metadata": {},
   "outputs": [
    {
     "data": {
      "text/html": [
       "<div>\n",
       "<style scoped>\n",
       "    .dataframe tbody tr th:only-of-type {\n",
       "        vertical-align: middle;\n",
       "    }\n",
       "\n",
       "    .dataframe tbody tr th {\n",
       "        vertical-align: top;\n",
       "    }\n",
       "\n",
       "    .dataframe thead th {\n",
       "        text-align: right;\n",
       "    }\n",
       "</style>\n",
       "<table border=\"1\" class=\"dataframe\">\n",
       "  <thead>\n",
       "    <tr style=\"text-align: right;\">\n",
       "      <th></th>\n",
       "      <th>A_count</th>\n",
       "      <th>C_count</th>\n",
       "      <th>G_count</th>\n",
       "      <th>T_count</th>\n",
       "      <th>Total_Alleles</th>\n",
       "    </tr>\n",
       "  </thead>\n",
       "  <tbody>\n",
       "    <tr>\n",
       "      <th>SNP_1</th>\n",
       "      <td>569</td>\n",
       "      <td>505</td>\n",
       "      <td>422</td>\n",
       "      <td>504</td>\n",
       "      <td>2000</td>\n",
       "    </tr>\n",
       "    <tr>\n",
       "      <th>SNP_2</th>\n",
       "      <td>982</td>\n",
       "      <td>342</td>\n",
       "      <td>380</td>\n",
       "      <td>296</td>\n",
       "      <td>2000</td>\n",
       "    </tr>\n",
       "    <tr>\n",
       "      <th>SNP_3</th>\n",
       "      <td>289</td>\n",
       "      <td>233</td>\n",
       "      <td>774</td>\n",
       "      <td>704</td>\n",
       "      <td>2000</td>\n",
       "    </tr>\n",
       "    <tr>\n",
       "      <th>SNP_4</th>\n",
       "      <td>456</td>\n",
       "      <td>591</td>\n",
       "      <td>471</td>\n",
       "      <td>482</td>\n",
       "      <td>2000</td>\n",
       "    </tr>\n",
       "    <tr>\n",
       "      <th>SNP_5</th>\n",
       "      <td>295</td>\n",
       "      <td>392</td>\n",
       "      <td>984</td>\n",
       "      <td>329</td>\n",
       "      <td>2000</td>\n",
       "    </tr>\n",
       "  </tbody>\n",
       "</table>\n",
       "</div>"
      ],
      "text/plain": [
       "       A_count  C_count  G_count  T_count  Total_Alleles\n",
       "SNP_1      569      505      422      504           2000\n",
       "SNP_2      982      342      380      296           2000\n",
       "SNP_3      289      233      774      704           2000\n",
       "SNP_4      456      591      471      482           2000\n",
       "SNP_5      295      392      984      329           2000"
      ]
     },
     "execution_count": 35,
     "metadata": {},
     "output_type": "execute_result"
    }
   ],
   "source": [
    "centralized_counts = count_alleles(centralized_df)\n",
    "centralized_counts"
   ]
  },
  {
   "cell_type": "code",
   "execution_count": 36,
   "id": "747c4529",
   "metadata": {},
   "outputs": [
    {
     "data": {
      "text/plain": [
       "array([[0.2845, 0.2525, 0.211 , 0.252 ],\n",
       "       [0.491 , 0.171 , 0.19  , 0.148 ],\n",
       "       [0.1445, 0.1165, 0.387 , 0.352 ],\n",
       "       [0.228 , 0.2955, 0.2355, 0.241 ],\n",
       "       [0.1475, 0.196 , 0.492 , 0.1645]])"
      ]
     },
     "execution_count": 36,
     "metadata": {},
     "output_type": "execute_result"
    }
   ],
   "source": [
    "allele_frequencies_np = compute_allele_frequencies_np(centralized_counts)\n",
    "allele_frequencies_np"
   ]
  },
  {
   "cell_type": "code",
   "execution_count": 37,
   "id": "94b8aebd",
   "metadata": {},
   "outputs": [
    {
     "data": {
      "text/plain": [
       "array([0.211 , 0.148 , 0.1165, 0.228 , 0.1475])"
      ]
     },
     "execution_count": 37,
     "metadata": {},
     "output_type": "execute_result"
    }
   ],
   "source": [
    "centralized_maf = compute_maf(allele_frequencies_np)\n",
    "centralized_maf"
   ]
  },
  {
   "cell_type": "code",
   "execution_count": 38,
   "id": "7d2fc9aa",
   "metadata": {},
   "outputs": [
    {
     "data": {
      "image/png": "[encoded data removed]",
      "text/plain": [
       "<Figure size 640x480 with 1 Axes>"
      ]
     },
     "metadata": {},
     "output_type": "display_data"
    }
   ],
   "source": [
    "plt.scatter(centralized_maf,federated_maf.MAF.values)\n",
    "plt.show()"
   ]
  },
  {
   "cell_type": "code",
   "execution_count": 25,
   "id": "a98d8630",
   "metadata": {},
   "outputs": [
    {
     "data": {
      "image/png": "[encoded data removed]",
      "text/plain": [
       "<Figure size 1200x600 with 1 Axes>"
      ]
     },
     "metadata": {},
     "output_type": "display_data"
    }
   ],
   "source": [
    "# Convert to long format for Seaborn\n",
    "#df = pd.DataFrame(allele_counts_df)\n",
    "df= centralized_counts\n",
    "df['SNP'] = df.index\n",
    "allele_data = df.melt(id_vars=[\"SNP\"], value_vars=[\"A_count\", \"C_count\", \"G_count\", \"T_count\"],\n",
    "                      var_name=\"Allele\", value_name=\"Count\")\n",
    "\n",
    "# Clean up allele names (remove \"_count\" from column names)\n",
    "allele_data[\"Allele\"] = allele_data[\"Allele\"].str.replace(\"_count\", \"\")\n",
    "\n",
    "# Set Seaborn style\n",
    "sns.set(style=\"whitegrid\")\n",
    "\n",
    "# Create the bar plot\n",
    "plt.figure(figsize=(12, 6))  # Set figure size\n",
    "ax = sns.barplot(x=\"SNP\", y=\"Count\", hue=\"Allele\", data=allele_data, palette=\"Set2\")\n",
    "\n",
    "# Customize plot\n",
    "plt.xlabel(\"SNPs\", fontsize=14)\n",
    "plt.ylabel(\"Allele Count\", fontsize=14)\n",
    "plt.title(\"Allele Frequency Distribution Across SNPs - Global\", fontsize=16)\n",
    "plt.xticks(rotation=0, fontsize=12)  # Keep SNP labels readable\n",
    "plt.yticks(fontsize=12)\n",
    "plt.legend(title=\"Allele\", fontsize=12)\n",
    "plt.grid(True, axis='y', linestyle='--', alpha=0.7)\n",
    "\n",
    "# Show plot\n",
    "plt.tight_layout()\n",
    "plt.show()"
   ]
  },
  {
   "cell_type": "markdown",
   "id": "d5b42b66",
   "metadata": {},
   "source": [
    "## Local analysis\n",
    "\n",
    "Here, we present the results each client would obtain by analyzing their dataset independently. Notably, using the default seed value from the configuration file"
   ]
  },
  {
   "cell_type": "code",
   "execution_count": 26,
   "id": "070348cf",
   "metadata": {},
   "outputs": [],
   "source": [
    "# Concatenate all partitions into a single dataset\n",
    "partitions = []\n",
    "for i in range(num_partitions):  \n",
    "    data = load_data(i, num_partitions, params[\"num_individuals\"], \n",
    "                     num_snps = params[\"num_snps\"], seed_value =\n",
    "                     params[\"seed_value\"]\n",
    "                    )\n",
    "    partitions.append((i,data))\n"
   ]
  },
  {
   "cell_type": "code",
   "execution_count": 30,
   "id": "51fa865c",
   "metadata": {},
   "outputs": [],
   "source": [
    "values= np.stack([compute_maf(compute_allele_frequencies_np(count_alleles(t[1]))) for t in partitions ])\n",
    "cases = ['Partition 1', 'Partition 2', 'Partition 3', 'Partition 4', 'Partition 5']\n",
    "categories = ['SNP_1', 'SNP_2', 'SNP_3', 'SNP_4','SNP_5']\n"
   ]
  },
  {
   "cell_type": "code",
   "execution_count": 31,
   "id": "365dfab2",
   "metadata": {},
   "outputs": [
    {
     "data": {
      "image/png": "[encoded data removed]",
      "text/plain": [
       "<Figure size 1000x600 with 1 Axes>"
      ]
     },
     "metadata": {},
     "output_type": "display_data"
    }
   ],
   "source": [
    "# Bar width and x positions\n",
    "x = np.arange(len(cases))  # Positions for each case\n",
    "bar_width = 0.15  # Width of each bar\n",
    "\n",
    "# Plot\n",
    "plt.figure(figsize=(10, 6))\n",
    "\n",
    "for i in range(len(categories)):\n",
    "    plt.bar(x + i * bar_width, values[:, i], width=bar_width, label=categories[i])\n",
    "\n",
    "# Formatting\n",
    "plt.xticks(x + bar_width * (len(categories) / 2 - 0.5), cases)  # Center x labels\n",
    "plt.xlabel('Cases')\n",
    "plt.ylabel('Values')\n",
    "plt.title('Partition Maf')\n",
    "plt.legend(title='Categories')\n",
    "\n",
    "# Show plot\n",
    "plt.show()"
   ]
  },
  {
   "cell_type": "markdown",
   "id": "d3e27007",
   "metadata": {},
   "source": [
    "# Find the interesting case"
   ]
  },
  {
   "cell_type": "code",
   "execution_count": null,
   "id": "cfee06d1",
   "metadata": {},
   "outputs": [],
   "source": [
    "for s in range(1,1000):\n",
    "    d = generate_gwas_dataset(100, 5, s, 0.05)\n",
    "    c = count_alleles(d)\n",
    "    f = compute_allele_frequencies_np(c)\n",
    "    m = compute_maf(f)\n",
    "    if np.all(m != 0):\n",
    "        print(\"All elements are different from 0\")\n",
    "        print(s,m)\n",
    "            "
   ]
  },
  {
   "cell_type": "code",
   "execution_count": null,
   "id": "86894532",
   "metadata": {},
   "outputs": [],
   "source": []
  },
  {
   "cell_type": "code",
   "execution_count": null,
   "id": "28da11a9",
   "metadata": {},
   "outputs": [],
   "source": []
  },
  {
   "cell_type": "code",
   "execution_count": 17,
   "id": "fd8dfd8b",
   "metadata": {},
   "outputs": [
    {
     "name": "stdout",
     "output_type": "stream",
     "text": [
      "All elements are different from 0\n",
      "16 [0.12  0.055 0.07  0.065 0.11 ]\n",
      "All elements are different from 0\n",
      "20 [0.11  0.095 0.13  0.175 0.075]\n",
      "All elements are different from 0\n",
      "57 [0.17  0.065 0.165 0.08  0.2  ]\n",
      "All elements are different from 0\n",
      "93 [0.085 0.085 0.055 0.02  0.105]\n",
      "All elements are different from 0\n",
      "113 [0.135 0.11  0.1   0.095 0.14 ]\n",
      "All elements are different from 0\n",
      "131 [0.065 0.06  0.085 0.1   0.105]\n",
      "All elements are different from 0\n",
      "163 [0.095 0.075 0.055 0.055 0.17 ]\n",
      "All elements are different from 0\n",
      "173 [0.105 0.12  0.075 0.105 0.155]\n",
      "All elements are different from 0\n",
      "214 [0.09  0.11  0.12  0.135 0.09 ]\n",
      "All elements are different from 0\n",
      "255 [0.205 0.155 0.15  0.07  0.04 ]\n",
      "All elements are different from 0\n",
      "263 [0.155 0.125 0.07  0.075 0.11 ]\n",
      "All elements are different from 0\n",
      "279 [0.03  0.125 0.105 0.18  0.215]\n",
      "All elements are different from 0\n",
      "287 [0.115 0.12  0.125 0.13  0.15 ]\n",
      "All elements are different from 0\n",
      "307 [0.095 0.15  0.095 0.05  0.05 ]\n",
      "All elements are different from 0\n",
      "350 [0.15  0.085 0.045 0.07  0.08 ]\n",
      "All elements are different from 0\n",
      "363 [0.135 0.095 0.09  0.185 0.055]\n",
      "All elements are different from 0\n",
      "475 [0.055 0.045 0.09  0.15  0.12 ]\n",
      "All elements are different from 0\n",
      "501 [0.07  0.105 0.06  0.145 0.065]\n",
      "All elements are different from 0\n",
      "508 [0.055 0.07  0.165 0.035 0.15 ]\n",
      "All elements are different from 0\n",
      "516 [0.05  0.145 0.15  0.095 0.105]\n",
      "All elements are different from 0\n",
      "562 [0.05  0.07  0.09  0.05  0.115]\n",
      "All elements are different from 0\n",
      "583 [0.055 0.075 0.145 0.115 0.105]\n",
      "All elements are different from 0\n",
      "787 [0.07 0.16 0.12 0.09 0.12]\n",
      "All elements are different from 0\n",
      "793 [0.055 0.035 0.08  0.085 0.085]\n",
      "All elements are different from 0\n",
      "813 [0.04  0.08  0.16  0.205 0.1  ]\n",
      "All elements are different from 0\n",
      "847 [0.08  0.17  0.045 0.06  0.1  ]\n",
      "All elements are different from 0\n",
      "899 [0.075 0.13  0.045 0.05  0.14 ]\n",
      "All elements are different from 0\n",
      "921 [0.075 0.155 0.035 0.075 0.14 ]\n",
      "All elements are different from 0\n",
      "923 [0.04  0.075 0.105 0.085 0.07 ]\n",
      "All elements are different from 0\n",
      "979 [0.05  0.16  0.11  0.065 0.045]\n"
     ]
    }
   ],
   "source": [
    "for s in range(1,1000):\n",
    "    d = generate_gwas_dataset(100, 5, s, 0.05)\n",
    "    c = count_alleles(d)\n",
    "    f = compute_allele_frequencies_np(c)\n",
    "    m = compute_maf(f)\n",
    "    if np.all(m != 0):\n",
    "        print(\"All elements are different from 0\")\n",
    "        print(s,m)    \n",
    "    "
   ]
  },
  {
   "cell_type": "code",
   "execution_count": null,
   "id": "e7752be4",
   "metadata": {},
   "outputs": [],
   "source": []
  }
 ],
 "metadata": {
  "kernelspec": {
   "display_name": "base",
   "language": "python",
   "name": "python3"
  },
  "language_info": {
   "codemirror_mode": {
    "name": "ipython",
    "version": 3
   },
   "file_extension": ".py",
   "mimetype": "text/x-python",
   "name": "python",
   "nbconvert_exporter": "python",
   "pygments_lexer": "ipython3",
   "version": "3.12.4"
  }
 },
 "nbformat": 4,
 "nbformat_minor": 5
}
